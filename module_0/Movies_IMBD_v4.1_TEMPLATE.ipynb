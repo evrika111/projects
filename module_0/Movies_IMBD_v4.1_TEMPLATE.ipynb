{
 "cells": [
  {
   "cell_type": "code",
   "execution_count": 95,
   "metadata": {
    "_cell_guid": "b1076dfc-b9ad-4769-8c92-a6c4dae69d19",
    "_uuid": "8f2839f25d086af736a60e9eeb907d3b93b6e0e5",
    "colab": {},
    "colab_type": "code",
    "id": "U2D2gTdJVp90"
   },
   "outputs": [],
   "source": [
    "import numpy as np\n",
    "import pandas as pd\n",
    "import seaborn as sns\n",
    "import matplotlib.pyplot as plt\n",
    "import operator\n",
    "from collections import Counter\n",
    "from itertools import combinations"
   ]
  },
  {
   "cell_type": "code",
   "execution_count": 96,
   "metadata": {
    "_cell_guid": "79c7e3d0-c299-4dcb-8224-4455121ee9b0",
    "_uuid": "d629ff2d2480ee46fbb7e2d37f6b5fab8052498a",
    "colab": {},
    "colab_type": "code",
    "id": "oyGfxL3eVp9-"
   },
   "outputs": [
    {
     "data": {
      "text/html": [
       "<div>\n",
       "<style scoped>\n",
       "    .dataframe tbody tr th:only-of-type {\n",
       "        vertical-align: middle;\n",
       "    }\n",
       "\n",
       "    .dataframe tbody tr th {\n",
       "        vertical-align: top;\n",
       "    }\n",
       "\n",
       "    .dataframe thead th {\n",
       "        text-align: right;\n",
       "    }\n",
       "</style>\n",
       "<table border=\"1\" class=\"dataframe\">\n",
       "  <thead>\n",
       "    <tr style=\"text-align: right;\">\n",
       "      <th></th>\n",
       "      <th>imdb_id</th>\n",
       "      <th>budget</th>\n",
       "      <th>revenue</th>\n",
       "      <th>original_title</th>\n",
       "      <th>cast</th>\n",
       "      <th>director</th>\n",
       "      <th>tagline</th>\n",
       "      <th>overview</th>\n",
       "      <th>runtime</th>\n",
       "      <th>genres</th>\n",
       "      <th>production_companies</th>\n",
       "      <th>release_date</th>\n",
       "      <th>vote_average</th>\n",
       "      <th>release_year</th>\n",
       "    </tr>\n",
       "  </thead>\n",
       "  <tbody>\n",
       "    <tr>\n",
       "      <th>1360</th>\n",
       "      <td>tt0382077</td>\n",
       "      <td>25000000</td>\n",
       "      <td>122644820</td>\n",
       "      <td>Hide and Seek</td>\n",
       "      <td>Robert De Niro|Dakota Fanning|Famke Janssen|El...</td>\n",
       "      <td>John Polson</td>\n",
       "      <td>Come out, come out, whatever you are.</td>\n",
       "      <td>David Callaway tries to piece together his lif...</td>\n",
       "      <td>101</td>\n",
       "      <td>Horror|Mystery|Thriller</td>\n",
       "      <td>Twentieth Century Fox Film Corporation|Fox 200...</td>\n",
       "      <td>1/27/2005</td>\n",
       "      <td>6.2</td>\n",
       "      <td>2005</td>\n",
       "    </tr>\n",
       "    <tr>\n",
       "      <th>1743</th>\n",
       "      <td>tt0373883</td>\n",
       "      <td>15000000</td>\n",
       "      <td>80253908</td>\n",
       "      <td>Halloween</td>\n",
       "      <td>Malcolm McDowell|Brad Dourif|Daeg Faerch|Tyler...</td>\n",
       "      <td>Rob Zombie</td>\n",
       "      <td>Evil. Unmasked.</td>\n",
       "      <td>After being committed for 17 years, Michael My...</td>\n",
       "      <td>109</td>\n",
       "      <td>Horror</td>\n",
       "      <td>Dimension Films|Spectacle Entertainment Group|...</td>\n",
       "      <td>8/31/2007</td>\n",
       "      <td>5.8</td>\n",
       "      <td>2007</td>\n",
       "    </tr>\n",
       "    <tr>\n",
       "      <th>966</th>\n",
       "      <td>tt0298744</td>\n",
       "      <td>7000000</td>\n",
       "      <td>2062066</td>\n",
       "      <td>Auto Focus</td>\n",
       "      <td>Greg Kinnear|Willem Dafoe|Rita Wilson|Maria Be...</td>\n",
       "      <td>Paul Schrader</td>\n",
       "      <td>A day without sex is a day wasted.</td>\n",
       "      <td>A successful TV star during the 1960s, former ...</td>\n",
       "      <td>104</td>\n",
       "      <td>Drama|Crime</td>\n",
       "      <td>Sony Pictures Classics|Propaganda Films|Good M...</td>\n",
       "      <td>10/18/2002</td>\n",
       "      <td>5.9</td>\n",
       "      <td>2002</td>\n",
       "    </tr>\n",
       "    <tr>\n",
       "      <th>354</th>\n",
       "      <td>tt0986263</td>\n",
       "      <td>80000000</td>\n",
       "      <td>122444772</td>\n",
       "      <td>Surrogates</td>\n",
       "      <td>Bruce Willis|Radha Mitchell|Rosamund Pike|Jame...</td>\n",
       "      <td>Jonathan Mostow</td>\n",
       "      <td>How do you save humanity when the only thing t...</td>\n",
       "      <td>Set in a futuristic world where humans live in...</td>\n",
       "      <td>89</td>\n",
       "      <td>Action|Science Fiction|Thriller</td>\n",
       "      <td>Touchstone Pictures|Mandeville Films|Wintergre...</td>\n",
       "      <td>9/24/2009</td>\n",
       "      <td>5.7</td>\n",
       "      <td>2009</td>\n",
       "    </tr>\n",
       "    <tr>\n",
       "      <th>451</th>\n",
       "      <td>tt1322312</td>\n",
       "      <td>32000000</td>\n",
       "      <td>42045846</td>\n",
       "      <td>Going the Distance</td>\n",
       "      <td>Drew Barrymore|Justin Long|Christina Applegate...</td>\n",
       "      <td>Nanette Burstein</td>\n",
       "      <td>A comedy about meeting each other halfway.</td>\n",
       "      <td>Erin and Garrett are very much in love. When E...</td>\n",
       "      <td>102</td>\n",
       "      <td>Comedy|Drama|Romance</td>\n",
       "      <td>New Line Cinema|Offspring Entertainment</td>\n",
       "      <td>9/1/2010</td>\n",
       "      <td>6.0</td>\n",
       "      <td>2010</td>\n",
       "    </tr>\n",
       "  </tbody>\n",
       "</table>\n",
       "</div>"
      ],
      "text/plain": [
       "        imdb_id    budget    revenue      original_title  \\\n",
       "1360  tt0382077  25000000  122644820       Hide and Seek   \n",
       "1743  tt0373883  15000000   80253908           Halloween   \n",
       "966   tt0298744   7000000    2062066          Auto Focus   \n",
       "354   tt0986263  80000000  122444772          Surrogates   \n",
       "451   tt1322312  32000000   42045846  Going the Distance   \n",
       "\n",
       "                                                   cast          director  \\\n",
       "1360  Robert De Niro|Dakota Fanning|Famke Janssen|El...       John Polson   \n",
       "1743  Malcolm McDowell|Brad Dourif|Daeg Faerch|Tyler...        Rob Zombie   \n",
       "966   Greg Kinnear|Willem Dafoe|Rita Wilson|Maria Be...     Paul Schrader   \n",
       "354   Bruce Willis|Radha Mitchell|Rosamund Pike|Jame...   Jonathan Mostow   \n",
       "451   Drew Barrymore|Justin Long|Christina Applegate...  Nanette Burstein   \n",
       "\n",
       "                                                tagline  \\\n",
       "1360              Come out, come out, whatever you are.   \n",
       "1743                                    Evil. Unmasked.   \n",
       "966                  A day without sex is a day wasted.   \n",
       "354   How do you save humanity when the only thing t...   \n",
       "451          A comedy about meeting each other halfway.   \n",
       "\n",
       "                                               overview  runtime  \\\n",
       "1360  David Callaway tries to piece together his lif...      101   \n",
       "1743  After being committed for 17 years, Michael My...      109   \n",
       "966   A successful TV star during the 1960s, former ...      104   \n",
       "354   Set in a futuristic world where humans live in...       89   \n",
       "451   Erin and Garrett are very much in love. When E...      102   \n",
       "\n",
       "                               genres  \\\n",
       "1360          Horror|Mystery|Thriller   \n",
       "1743                           Horror   \n",
       "966                       Drama|Crime   \n",
       "354   Action|Science Fiction|Thriller   \n",
       "451              Comedy|Drama|Romance   \n",
       "\n",
       "                                   production_companies release_date  \\\n",
       "1360  Twentieth Century Fox Film Corporation|Fox 200...    1/27/2005   \n",
       "1743  Dimension Films|Spectacle Entertainment Group|...    8/31/2007   \n",
       "966   Sony Pictures Classics|Propaganda Films|Good M...   10/18/2002   \n",
       "354   Touchstone Pictures|Mandeville Films|Wintergre...    9/24/2009   \n",
       "451             New Line Cinema|Offspring Entertainment     9/1/2010   \n",
       "\n",
       "      vote_average  release_year  \n",
       "1360           6.2          2005  \n",
       "1743           5.8          2007  \n",
       "966            5.9          2002  \n",
       "354            5.7          2009  \n",
       "451            6.0          2010  "
      ]
     },
     "execution_count": 96,
     "metadata": {},
     "output_type": "execute_result"
    }
   ],
   "source": [
    "data = pd.read_csv('movie_bd_v5.csv')\n",
    "data.sample(5)"
   ]
  },
  {
   "cell_type": "code",
   "execution_count": 97,
   "metadata": {
    "colab": {},
    "colab_type": "code",
    "id": "CoYUnagMVp-C"
   },
   "outputs": [
    {
     "data": {
      "text/html": [
       "<div>\n",
       "<style scoped>\n",
       "    .dataframe tbody tr th:only-of-type {\n",
       "        vertical-align: middle;\n",
       "    }\n",
       "\n",
       "    .dataframe tbody tr th {\n",
       "        vertical-align: top;\n",
       "    }\n",
       "\n",
       "    .dataframe thead th {\n",
       "        text-align: right;\n",
       "    }\n",
       "</style>\n",
       "<table border=\"1\" class=\"dataframe\">\n",
       "  <thead>\n",
       "    <tr style=\"text-align: right;\">\n",
       "      <th></th>\n",
       "      <th>budget</th>\n",
       "      <th>revenue</th>\n",
       "      <th>runtime</th>\n",
       "      <th>vote_average</th>\n",
       "      <th>release_year</th>\n",
       "    </tr>\n",
       "  </thead>\n",
       "  <tbody>\n",
       "    <tr>\n",
       "      <th>count</th>\n",
       "      <td>1.889000e+03</td>\n",
       "      <td>1.889000e+03</td>\n",
       "      <td>1889.000000</td>\n",
       "      <td>1889.000000</td>\n",
       "      <td>1889.000000</td>\n",
       "    </tr>\n",
       "    <tr>\n",
       "      <th>mean</th>\n",
       "      <td>5.431083e+07</td>\n",
       "      <td>1.553653e+08</td>\n",
       "      <td>109.658549</td>\n",
       "      <td>6.140762</td>\n",
       "      <td>2007.860773</td>\n",
       "    </tr>\n",
       "    <tr>\n",
       "      <th>std</th>\n",
       "      <td>4.858721e+07</td>\n",
       "      <td>2.146698e+08</td>\n",
       "      <td>18.017041</td>\n",
       "      <td>0.764763</td>\n",
       "      <td>4.468841</td>\n",
       "    </tr>\n",
       "    <tr>\n",
       "      <th>min</th>\n",
       "      <td>5.000000e+06</td>\n",
       "      <td>2.033165e+06</td>\n",
       "      <td>63.000000</td>\n",
       "      <td>3.300000</td>\n",
       "      <td>2000.000000</td>\n",
       "    </tr>\n",
       "    <tr>\n",
       "      <th>25%</th>\n",
       "      <td>2.000000e+07</td>\n",
       "      <td>3.456058e+07</td>\n",
       "      <td>97.000000</td>\n",
       "      <td>5.600000</td>\n",
       "      <td>2004.000000</td>\n",
       "    </tr>\n",
       "    <tr>\n",
       "      <th>50%</th>\n",
       "      <td>3.800000e+07</td>\n",
       "      <td>8.361541e+07</td>\n",
       "      <td>107.000000</td>\n",
       "      <td>6.100000</td>\n",
       "      <td>2008.000000</td>\n",
       "    </tr>\n",
       "    <tr>\n",
       "      <th>75%</th>\n",
       "      <td>7.200000e+07</td>\n",
       "      <td>1.782626e+08</td>\n",
       "      <td>120.000000</td>\n",
       "      <td>6.600000</td>\n",
       "      <td>2012.000000</td>\n",
       "    </tr>\n",
       "    <tr>\n",
       "      <th>max</th>\n",
       "      <td>3.800000e+08</td>\n",
       "      <td>2.781506e+09</td>\n",
       "      <td>214.000000</td>\n",
       "      <td>8.100000</td>\n",
       "      <td>2015.000000</td>\n",
       "    </tr>\n",
       "  </tbody>\n",
       "</table>\n",
       "</div>"
      ],
      "text/plain": [
       "             budget       revenue      runtime  vote_average  release_year\n",
       "count  1.889000e+03  1.889000e+03  1889.000000   1889.000000   1889.000000\n",
       "mean   5.431083e+07  1.553653e+08   109.658549      6.140762   2007.860773\n",
       "std    4.858721e+07  2.146698e+08    18.017041      0.764763      4.468841\n",
       "min    5.000000e+06  2.033165e+06    63.000000      3.300000   2000.000000\n",
       "25%    2.000000e+07  3.456058e+07    97.000000      5.600000   2004.000000\n",
       "50%    3.800000e+07  8.361541e+07   107.000000      6.100000   2008.000000\n",
       "75%    7.200000e+07  1.782626e+08   120.000000      6.600000   2012.000000\n",
       "max    3.800000e+08  2.781506e+09   214.000000      8.100000   2015.000000"
      ]
     },
     "execution_count": 97,
     "metadata": {},
     "output_type": "execute_result"
    }
   ],
   "source": [
    "data.describe()"
   ]
  },
  {
   "cell_type": "markdown",
   "metadata": {
    "colab_type": "text",
    "id": "DTIt7ezGVp-G"
   },
   "source": [
    "# Предобработка"
   ]
  },
  {
   "cell_type": "code",
   "execution_count": 98,
   "metadata": {
    "colab": {},
    "colab_type": "code",
    "id": "jNb40DwKVp-H"
   },
   "outputs": [],
   "source": [
    "answers = {}  # создадим словарь для ответов\n",
    "\n",
    "# тут другие ваши предобработки колонок например:\n",
    "\n",
    "#the time given in the dataset is in string format.\n",
    "#So we need to change this in datetime format\n",
    "# ...\n",
    "\n",
    "# код получения столбца profit выносим в Предобработку\n",
    "\n",
    "data['profit'] = data.revenue.apply(lambda s: s)\n",
    "# рассчитываем разницу между сборами и бюджетом\n",
    "data['profit'] = data['revenue'] - data['budget']"
   ]
  },
  {
   "cell_type": "markdown",
   "metadata": {
    "colab_type": "text",
    "id": "YxZaH-nPVp-L"
   },
   "source": [
    "# 1. У какого фильма из списка самый большой бюджет?"
   ]
  },
  {
   "cell_type": "markdown",
   "metadata": {
    "colab_type": "text",
    "id": "Nd-G5gX6Vp-M"
   },
   "source": [
    "Использовать варианты ответов в коде решения запрещено.    \n",
    "Вы думаете и в жизни у вас будут варианты ответов?)"
   ]
  },
  {
   "cell_type": "code",
   "execution_count": 99,
   "metadata": {
    "colab": {},
    "colab_type": "code",
    "id": "uVnXAY5RVp-O"
   },
   "outputs": [],
   "source": [
    "# в словарь вставляем номер вопроса и ваш ответ на него\n",
    "# Пример:\n",
    "# answers['1'] = '2. Spider-Man 3 (tt0413300)'\n",
    "# запишите свой вариант ответа\n",
    "answers['1'] = '723    Pirates of the Caribbean: On Stranger Tides'  # +\n",
    "# если ответили верно, можете добавить комментарий со значком \"+\""
   ]
  },
  {
   "cell_type": "code",
   "execution_count": 100,
   "metadata": {
    "colab": {},
    "colab_type": "code",
    "id": "dZwb3m28Vp-S"
   },
   "outputs": [
    {
     "data": {
      "text/plain": [
       "723    Pirates of the Caribbean: On Stranger Tides\n",
       "Name: original_title, dtype: object"
      ]
     },
     "execution_count": 100,
     "metadata": {},
     "output_type": "execute_result"
    }
   ],
   "source": [
    "# тут пишем ваш код для решения данного вопроса:\n",
    "max_budget = data.query('budget==' + str(data.budget.max()))\n",
    "max_budget['original_title']"
   ]
  },
  {
   "cell_type": "markdown",
   "metadata": {
    "colab_type": "text",
    "id": "K7L3nbRXVp-X"
   },
   "source": [
    "ВАРИАНТ 2"
   ]
  },
  {
   "cell_type": "code",
   "execution_count": 8,
   "metadata": {
    "colab": {},
    "colab_type": "code",
    "id": "OGaoQI7rVp-X"
   },
   "outputs": [],
   "source": [
    "# можно добавлять разные варианты решения\n"
   ]
  },
  {
   "cell_type": "markdown",
   "metadata": {
    "colab_type": "text",
    "id": "FNRbbI3vVp-c"
   },
   "source": [
    "# 2. Какой из фильмов самый длительный (в минутах)?"
   ]
  },
  {
   "cell_type": "code",
   "execution_count": 101,
   "metadata": {
    "colab": {},
    "colab_type": "code",
    "id": "vHAoEXNTVp-d"
   },
   "outputs": [],
   "source": [
    "# думаю логику работы с этим словарем вы уже поняли,\n",
    "# по этому не буду больше его дублировать\n",
    "answers['2'] = '1157    Gods and Generals'  # +"
   ]
  },
  {
   "cell_type": "code",
   "execution_count": 102,
   "metadata": {
    "colab": {},
    "colab_type": "code",
    "id": "ot-VX2XrVp-g"
   },
   "outputs": [
    {
     "data": {
      "text/plain": [
       "1157    Gods and Generals\n",
       "Name: original_title, dtype: object"
      ]
     },
     "execution_count": 102,
     "metadata": {},
     "output_type": "execute_result"
    }
   ],
   "source": [
    "max_runtime = data.query('runtime==' + str(data.runtime.max()))\n",
    "max_runtime['original_title']"
   ]
  },
  {
   "cell_type": "markdown",
   "metadata": {
    "colab_type": "text",
    "id": "bapLlpW8Vp-k"
   },
   "source": [
    "# 3. Какой из фильмов самый короткий (в минутах)?\n",
    "\n",
    "\n",
    "\n"
   ]
  },
  {
   "cell_type": "code",
   "execution_count": 103,
   "metadata": {
    "colab": {},
    "colab_type": "code",
    "id": "YBxaSHuAVp-l"
   },
   "outputs": [
    {
     "data": {
      "text/plain": [
       "768    Winnie the Pooh\n",
       "Name: original_title, dtype: object"
      ]
     },
     "execution_count": 103,
     "metadata": {},
     "output_type": "execute_result"
    }
   ],
   "source": [
    "answers['3'] = '768    Winnie the Pooh'  # +\n",
    "\n",
    "min_runtime = data.query('runtime==' + str(data.runtime.min()))\n",
    "min_runtime['original_title']"
   ]
  },
  {
   "cell_type": "markdown",
   "metadata": {
    "colab_type": "text",
    "id": "TfQbxbfNVp-p"
   },
   "source": [
    "# 4. Какова средняя длительность фильмов?\n"
   ]
  },
  {
   "cell_type": "code",
   "execution_count": 104,
   "metadata": {
    "colab": {},
    "colab_type": "code",
    "id": "5K6dKZYVVp-q"
   },
   "outputs": [
    {
     "data": {
      "text/plain": [
       "109.6585494970884"
      ]
     },
     "execution_count": 104,
     "metadata": {},
     "output_type": "execute_result"
    }
   ],
   "source": [
    "answers['4'] = 109.6585494970884  # + (с округлением 110)\n",
    "\n",
    "mean_runtime = data.runtime.mean()\n",
    "mean_runtime"
   ]
  },
  {
   "cell_type": "markdown",
   "metadata": {
    "colab_type": "text",
    "id": "r5TvbnT_Vp-u"
   },
   "source": [
    "# 5. Каково медианное значение длительности фильмов? "
   ]
  },
  {
   "cell_type": "code",
   "execution_count": 105,
   "metadata": {
    "colab": {},
    "colab_type": "code",
    "id": "iBROplKnVp-v"
   },
   "outputs": [
    {
     "data": {
      "text/plain": [
       "107.0"
      ]
     },
     "execution_count": 105,
     "metadata": {},
     "output_type": "execute_result"
    }
   ],
   "source": [
    "answers['5'] = 107.0  # +\n",
    "\n",
    "median_runtime = data.runtime.median()\n",
    "median_runtime"
   ]
  },
  {
   "cell_type": "markdown",
   "metadata": {
    "colab_type": "text",
    "id": "39P-deDSVp-y"
   },
   "source": [
    "# 6. Какой самый прибыльный фильм?\n",
    "#### Внимание! Здесь и далее под «прибылью» или «убытками» понимается разность между сборами и бюджетом фильма. (прибыль = сборы - бюджет) в нашем датасете это будет (profit = revenue - budget) "
   ]
  },
  {
   "cell_type": "code",
   "execution_count": 106,
   "metadata": {
    "colab": {},
    "colab_type": "code",
    "id": "UYZh4T9WVp-y"
   },
   "outputs": [
    {
     "data": {
      "text/plain": [
       "239    Avatar\n",
       "Name: original_title, dtype: object"
      ]
     },
     "execution_count": 106,
     "metadata": {},
     "output_type": "execute_result"
    }
   ],
   "source": [
    "# лучше код получения столбца profit вынести в Предобработку что в начале\n",
    "# код получение столбца profit  вынесен в Предобработку\n",
    "answers['6'] = '239    Avatar'  # +\n",
    "\n",
    "max_profit = data.query('profit==' + str(data.profit.max()))\n",
    "max_profit['original_title']"
   ]
  },
  {
   "cell_type": "markdown",
   "metadata": {
    "colab_type": "text",
    "id": "M99JmIX4Vp-2"
   },
   "source": [
    "# 7. Какой фильм самый убыточный? "
   ]
  },
  {
   "cell_type": "code",
   "execution_count": 107,
   "metadata": {
    "colab": {},
    "colab_type": "code",
    "id": "w-D2m4XPVp-3"
   },
   "outputs": [
    {
     "data": {
      "text/plain": [
       "1245    The Lone Ranger\n",
       "Name: original_title, dtype: object"
      ]
     },
     "execution_count": 107,
     "metadata": {},
     "output_type": "execute_result"
    }
   ],
   "source": [
    "answers['7'] = '1245    The Lone Ranger'  # +\n",
    "\n",
    "min_profit = data.query('profit==' + str(data.profit.min()))\n",
    "min_profit['original_title']"
   ]
  },
  {
   "cell_type": "markdown",
   "metadata": {
    "colab_type": "text",
    "id": "wEOM5ERVVp-6"
   },
   "source": [
    "# 8. У скольких фильмов из датасета объем сборов оказался выше бюджета?"
   ]
  },
  {
   "cell_type": "code",
   "execution_count": 108,
   "metadata": {
    "colab": {},
    "colab_type": "code",
    "id": "y00_7HD6Vp-7"
   },
   "outputs": [
    {
     "data": {
      "text/plain": [
       "1478"
      ]
     },
     "execution_count": 108,
     "metadata": {},
     "output_type": "execute_result"
    }
   ],
   "source": [
    "answers['8'] = 1478  # +\n",
    "\n",
    "profit_plus = data.query('profit>0')\n",
    "profit_plus.count()['original_title']"
   ]
  },
  {
   "cell_type": "markdown",
   "metadata": {
    "colab_type": "text",
    "id": "xhpspA9KVp_A"
   },
   "source": [
    "# 9. Какой фильм оказался самым кассовым в 2008 году?"
   ]
  },
  {
   "cell_type": "code",
   "execution_count": 109,
   "metadata": {
    "colab": {},
    "colab_type": "code",
    "id": "MoUyQr9RVp_B"
   },
   "outputs": [
    {
     "data": {
      "text/plain": [
       "599    The Dark Knight\n",
       "Name: original_title, dtype: object"
      ]
     },
     "execution_count": 109,
     "metadata": {},
     "output_type": "execute_result"
    }
   ],
   "source": [
    "answers['9'] = '599    The Dark Knight'  # +\n",
    "\n",
    "data2008 = data.query('release_year==2008')\n",
    "max_revenue_2008 = data2008.query('revenue==' + str(data2008.revenue.max()))\n",
    "max_revenue_2008['original_title']"
   ]
  },
  {
   "cell_type": "markdown",
   "metadata": {
    "colab_type": "text",
    "id": "Zi4hDKidVp_F"
   },
   "source": [
    "# 10. Самый убыточный фильм за период с 2012 по 2014 г. (включительно)?\n"
   ]
  },
  {
   "cell_type": "code",
   "execution_count": 110,
   "metadata": {
    "colab": {},
    "colab_type": "code",
    "id": "XqyRmufJVp_F"
   },
   "outputs": [
    {
     "data": {
      "text/plain": [
       "1245    The Lone Ranger\n",
       "Name: original_title, dtype: object"
      ]
     },
     "execution_count": 110,
     "metadata": {},
     "output_type": "execute_result"
    }
   ],
   "source": [
    "answers['10'] = '1245    The Lone Ranger'  # +\n",
    "\n",
    "data2012_2014 = data.query('release_year>=2012 & release_year<=2014')\n",
    "min_profit_2012_2014 = data2012_2014.query('profit==' +\n",
    "                                           str(data2012_2014.profit.min()))\n",
    "min_profit_2012_2014['original_title']"
   ]
  },
  {
   "cell_type": "markdown",
   "metadata": {
    "colab_type": "text",
    "id": "EA7Sa9dkVp_I"
   },
   "source": [
    "# 11. Какого жанра фильмов больше всего?"
   ]
  },
  {
   "cell_type": "code",
   "execution_count": 111,
   "metadata": {
    "colab": {},
    "colab_type": "code",
    "id": "zsJAwJ8QVp_J"
   },
   "outputs": [
    {
     "data": {
      "text/plain": [
       "Drama    782\n",
       "dtype: int64"
      ]
     },
     "execution_count": 111,
     "metadata": {},
     "output_type": "execute_result"
    }
   ],
   "source": [
    "# эту задачу тоже можно решать разными подходами, попробуй реализовать разные варианты\n",
    "# если будешь добавлять функцию - выноси ее в предобработку что в начале\n",
    "answers['11'] = 'Drama    782'\n",
    "\n",
    "genres = pd.DataFrame(\n",
    "    data.genres.str.split('|').tolist()).stack().value_counts().head(1)\n",
    "genres"
   ]
  },
  {
   "cell_type": "markdown",
   "metadata": {
    "colab_type": "text",
    "id": "Ax6g2C8SVp_M"
   },
   "source": [
    "ВАРИАНТ 2"
   ]
  },
  {
   "cell_type": "code",
   "execution_count": 112,
   "metadata": {
    "colab": {},
    "colab_type": "code",
    "id": "otO3SbrSVp_N"
   },
   "outputs": [
    {
     "name": "stdout",
     "output_type": "stream",
     "text": [
      "Drama 782\n"
     ]
    }
   ],
   "source": [
    "genres = pd.DataFrame(data.genres.str.split('|'))\n",
    "# получаем все уникальные значения жанров\n",
    "uniq_genres = []\n",
    "\n",
    "for i in range(genres.count()[0]):\n",
    "    current_seria = genres['genres'][i]\n",
    "    lenght_current_seria = len(current_seria)\n",
    "    for s in range(lenght_current_seria):\n",
    "        if current_seria[s] in uniq_genres:\n",
    "            continue\n",
    "        else:\n",
    "            uniq_genres.append(current_seria[s])\n",
    "\n",
    "# создаем словарь voc_genres: жанр, количество в дата сете\n",
    "voc_genres = {}\n",
    "\n",
    "# длина списка жанров\n",
    "lenght_uniq_genres = len(uniq_genres)\n",
    "\n",
    "#  в цикле:\n",
    "for i in range(lenght_uniq_genres):\n",
    "    column_name = uniq_genres[i]\n",
    "    # создаём и заполняем колонки с жанрами\n",
    "    data[column_name] = data.genres.apply(lambda s: 1\n",
    "                                          if column_name in s else 0)\n",
    "    # подсчитываем и заполняем словарь voc_genres\n",
    "    voc_genres[column_name] = data[column_name].sum()\n",
    "# получаем ключ словаря с максимальным значением\n",
    "max_key = max(voc_genres, key=lambda k: voc_genres[k])\n",
    "\n",
    "# выводим полученные данные\n",
    "print(max_key, voc_genres[max_key])\n",
    "\n",
    "# можно было сделать всё в одном цикле, но тогда код был бы менее понятен"
   ]
  },
  {
   "cell_type": "markdown",
   "metadata": {
    "colab_type": "text",
    "id": "T9_bPWpkVp_Q"
   },
   "source": [
    "# 12. Фильмы какого жанра чаще всего становятся прибыльными? "
   ]
  },
  {
   "cell_type": "code",
   "execution_count": 113,
   "metadata": {
    "colab": {},
    "colab_type": "code",
    "id": "Tmt8MaK1Vp_R"
   },
   "outputs": [
    {
     "data": {
      "text/plain": [
       "Drama    560\n",
       "dtype: int64"
      ]
     },
     "execution_count": 113,
     "metadata": {},
     "output_type": "execute_result"
    }
   ],
   "source": [
    "answers['12'] = 'Drama    560' # +\n",
    "\n",
    "# отбор с прибылью больше нуля\n",
    "profit_plus = data.query('profit>0')\n",
    "\n",
    "# преобразование списка genres и подсчет\n",
    "genres = pd.DataFrame(\n",
    "    profit_plus.genres.str.split('|').tolist()).stack().value_counts().head(1)\n",
    "genres"
   ]
  },
  {
   "cell_type": "markdown",
   "metadata": {
    "colab_type": "text",
    "id": "0F23bgsDVp_U"
   },
   "source": [
    "# 13. У какого режиссера самые большие суммарные кассовые сбооры?"
   ]
  },
  {
   "cell_type": "code",
   "execution_count": 114,
   "metadata": {
    "colab": {},
    "colab_type": "code",
    "id": "K6Z3J8ygVp_X"
   },
   "outputs": [
    {
     "data": {
      "text/plain": [
       "'Peter Jackson'"
      ]
     },
     "execution_count": 114,
     "metadata": {},
     "output_type": "execute_result"
    }
   ],
   "source": [
    "answers['13'] = 'Peter Jackson'  # +\n",
    "\n",
    "grouped_df = data.groupby(['director']).sum()\n",
    "\n",
    "max_revenue = grouped_df.revenue.max()\n",
    "max_revenue_director = grouped_df.query('revenue==' + str(max_revenue))\n",
    "s = max_revenue_director.index\n",
    "s[0]"
   ]
  },
  {
   "cell_type": "code",
   "execution_count": 115,
   "metadata": {},
   "outputs": [
    {
     "data": {
      "text/plain": [
       "('Peter Jackson', 6490593685)"
      ]
     },
     "execution_count": 115,
     "metadata": {},
     "output_type": "execute_result"
    }
   ],
   "source": [
    "# 2 вариант 13 вопрос через Counter()\n",
    "\n",
    "count = Counter()\n",
    "for i in range(0, len(data)):\n",
    "    for k in data.iloc[i]['director'].split('|'):\n",
    "        count[k] += data.iloc[i]['revenue']\n",
    "\n",
    "sorted_actors_revenue = sorted(count.items(),\n",
    "                               key=operator.itemgetter(1),\n",
    "                               reverse=True)\n",
    "sorted_actors_revenue[0]"
   ]
  },
  {
   "cell_type": "markdown",
   "metadata": {
    "colab_type": "text",
    "id": "PsYC9FgRVp_a"
   },
   "source": [
    "# 14. Какой режисер снял больше всего фильмов в стиле Action?"
   ]
  },
  {
   "cell_type": "code",
   "execution_count": 116,
   "metadata": {
    "colab": {},
    "colab_type": "code",
    "id": "wd2M-wHeVp_b"
   },
   "outputs": [
    {
     "data": {
      "text/plain": [
       "('Robert Rodriguez', 9)"
      ]
     },
     "execution_count": 116,
     "metadata": {},
     "output_type": "execute_result"
    }
   ],
   "source": [
    "# через Counter()\n",
    "\n",
    "answers['14'] = 'Robert Rodriguez'  # +\n",
    "\n",
    "count = Counter()\n",
    "for i in range(0, len(data)):\n",
    "    for k in data.iloc[i]['director'].split('|'):\n",
    "        count[k] += data.iloc[i]['Action']\n",
    "\n",
    "sorted_actors_revenue = sorted(count.items(),\n",
    "                               key=operator.itemgetter(1),\n",
    "                               reverse=True)\n",
    "sorted_actors_revenue[0]"
   ]
  },
  {
   "cell_type": "code",
   "execution_count": 117,
   "metadata": {},
   "outputs": [
    {
     "data": {
      "text/plain": [
       "9"
      ]
     },
     "execution_count": 117,
     "metadata": {},
     "output_type": "execute_result"
    }
   ],
   "source": [
    "# проверка правильности 14 задания с ответом ('Robert Rodriguez', 9)\n",
    "d_Robert_Rodriguez = data[data.director.str.contains(\"Robert Rodriguez\",\n",
    "                                                     na=False)]\n",
    "d_Robert_Rodriguez_Action = d_Robert_Rodriguez.query('Action==1')\n",
    "len(d_Robert_Rodriguez_Action)"
   ]
  },
  {
   "cell_type": "markdown",
   "metadata": {
    "colab_type": "text",
    "id": "PQ0KciD7Vp_f"
   },
   "source": [
    "# 15. Фильмы с каким актером принесли самые высокие кассовые сборы в 2012 году? "
   ]
  },
  {
   "cell_type": "code",
   "execution_count": 118,
   "metadata": {
    "colab": {},
    "colab_type": "code",
    "id": "aga62oeKVp_g"
   },
   "outputs": [
    {
     "data": {
      "text/plain": [
       "'Chris Hemsworth'"
      ]
     },
     "execution_count": 118,
     "metadata": {},
     "output_type": "execute_result"
    }
   ],
   "source": [
    "answers['15'] = 'Chris Hemsworth'  # +\n",
    "\n",
    "data_2012 = data.query('release_year==2012')\n",
    "\n",
    "count = Counter()\n",
    "for i in range(0, len(data_2012)):\n",
    "    for k in data_2012.iloc[i]['cast'].split('|'):\n",
    "        count[k] += data_2012.iloc[i]['revenue']\n",
    "\n",
    "sorted_actors_revenue = sorted(count.items(),\n",
    "                               key=operator.itemgetter(1),\n",
    "                               reverse=True)\n",
    "sorted_actors_revenue[0][0]"
   ]
  },
  {
   "cell_type": "code",
   "execution_count": 119,
   "metadata": {},
   "outputs": [
    {
     "data": {
      "text/plain": [
       "'Chris Hemsworth'"
      ]
     },
     "execution_count": 119,
     "metadata": {},
     "output_type": "execute_result"
    }
   ],
   "source": [
    "# 2 вариант 15 задание\n",
    "\n",
    "# получаем выборку за 2012 год\n",
    "data_2012 = data.query('release_year==2012')\n",
    "\n",
    "# получаем датафрейм сумма кассового сбора и список актеров с этой суммой\n",
    "actors_revenue = pd.DataFrame(\n",
    "    data_2012.cast.str.split('|').tolist(), data_2012.revenue)\n",
    "\n",
    "# получаем серии из датафрейма actors\n",
    "actors_revenue_stack = actors_revenue.stack()\n",
    "\n",
    "''' создаем словарь voc_actors_revenue и в цикле обхода по сериям \n",
    "    подсчитываем сумму кассовых сборов по каждому актеру'''\n",
    "voc_actors_revenue = {}\n",
    "for i in actors_revenue_stack.index:\n",
    "\n",
    "    if actors_revenue_stack[i] in voc_actors_revenue:\n",
    "\n",
    "        voc_actors_revenue[actors_revenue_stack[i]] += i[0]\n",
    "    else:\n",
    "        voc_actors_revenue[actors_revenue_stack[i]] = i[0]\n",
    "voc_actors_revenue\n",
    "type(actors_revenue_stack)\n",
    "\n",
    "# получаем отсортированный список актеров по убыванию кассовых сборов\n",
    "sorted_actors_revenue = sorted(voc_actors_revenue.items(),\n",
    "                               key=operator.itemgetter(1),\n",
    "                               reverse=True)\n",
    "\n",
    "# получаем актера с максимальной суммой кассовых сборов\n",
    "actors_with_max_revenue = sorted_actors_revenue[0][0]\n",
    "actors_with_max_revenue"
   ]
  },
  {
   "cell_type": "markdown",
   "metadata": {
    "colab_type": "text",
    "id": "mWHyyL7QVp_j"
   },
   "source": [
    "# 16. Какой актер снялся в большем количестве высокобюджетных фильмов?"
   ]
  },
  {
   "cell_type": "code",
   "execution_count": 120,
   "metadata": {
    "colab": {},
    "colab_type": "code",
    "id": "qQtmHKTFVp_k"
   },
   "outputs": [
    {
     "data": {
      "text/plain": [
       "'Matt Damon'"
      ]
     },
     "execution_count": 120,
     "metadata": {},
     "output_type": "execute_result"
    }
   ],
   "source": [
    "answers['16'] = 'Matt Damon'  # +\n",
    "\n",
    "# определяем границы бюджета высокобюджетных фильмов\n",
    "data_describe = data.describe()\n",
    "low = data_describe['budget']['mean']\n",
    "high = data_describe['budget']['max']\n",
    "\n",
    "# делаем запрос\n",
    "data_high_budget = data.query('budget>=' + str(low) + ' & budget<='\n",
    "                               + str(high))\n",
    "\n",
    "# считаем\n",
    "count = Counter()\n",
    "for i in range(0, len(data_high_budget)):\n",
    "    for k in data_high_budget.iloc[i]['cast'].split('|'):\n",
    "        count[k] += 1\n",
    "\n",
    "# сортируем по убыванию и получаем первую запись\n",
    "sorted_actors = sorted(count.items(), key=operator.itemgetter(1), reverse=True)\n",
    "sorted_actors[0][0]"
   ]
  },
  {
   "cell_type": "markdown",
   "metadata": {
    "colab_type": "text",
    "id": "NIh6AaW5Vp_n"
   },
   "source": [
    "# 17. В фильмах какого жанра больше всего снимался Nicolas Cage? "
   ]
  },
  {
   "cell_type": "code",
   "execution_count": 121,
   "metadata": {
    "colab": {},
    "colab_type": "code",
    "id": "H74SJDIBVp_n"
   },
   "outputs": [
    {
     "data": {
      "text/plain": [
       "'Action'"
      ]
     },
     "execution_count": 121,
     "metadata": {},
     "output_type": "execute_result"
    }
   ],
   "source": [
    "answers['17'] = 'Action'  # +\n",
    "\n",
    "# отбираем датасет по Nicolas Cage\n",
    "data_Nicolas_Cage = data[data.cast.str.match(\"Nicolas Cage\", na=False)]\n",
    "\n",
    "# подсчитываем жанры фильмов\n",
    "count = Counter()\n",
    "for i in range(0, len(data_Nicolas_Cage)):\n",
    "    for k in data_Nicolas_Cage.iloc[i]['genres'].split('|'):\n",
    "        count[k] += 1\n",
    "count\n",
    "sorted_genres = sorted(count.items(), key=operator.itemgetter(1), reverse=True)\n",
    "sorted_genres[0][0]"
   ]
  },
  {
   "cell_type": "markdown",
   "metadata": {
    "colab_type": "text",
    "id": "RqOmPRfWVp_q"
   },
   "source": [
    "# 18. Самый убыточный фильм от Paramount Pictures"
   ]
  },
  {
   "cell_type": "code",
   "execution_count": 122,
   "metadata": {
    "colab": {},
    "colab_type": "code",
    "id": "9E_B0Y96Vp_r"
   },
   "outputs": [
    {
     "data": {
      "text/plain": [
       "925    K-19: The Widowmaker\n",
       "Name: original_title, dtype: object"
      ]
     },
     "execution_count": 122,
     "metadata": {},
     "output_type": "execute_result"
    }
   ],
   "source": [
    "answers['18'] = '925    K-19: The Widowmaker'  # +\n",
    "\n",
    "# отбираем датасет по Paramount Pictures\n",
    "data_Paramount_Pictures = data[data.production_companies.str.contains(\n",
    "    \"Paramount Pictures\", na=False)]\n",
    "\n",
    "min_profit = data_Paramount_Pictures.query(\n",
    "    'profit==' + str(data_Paramount_Pictures.profit.min()))\n",
    "min_profit['original_title']"
   ]
  },
  {
   "cell_type": "markdown",
   "metadata": {
    "colab_type": "text",
    "id": "vS8Ur6ddVp_u"
   },
   "source": [
    "# 19. Какой год стал самым успешным по суммарным кассовым сборам?"
   ]
  },
  {
   "cell_type": "code",
   "execution_count": 123,
   "metadata": {
    "colab": {},
    "colab_type": "code",
    "id": "Dnbt4GdIVp_v"
   },
   "outputs": [
    {
     "data": {
      "text/plain": [
       "2015"
      ]
     },
     "execution_count": 123,
     "metadata": {},
     "output_type": "execute_result"
    }
   ],
   "source": [
    "answers['19'] = '2015'  # +\n",
    "\n",
    "# data - группируем по годам и получаем общую сумму\n",
    "grouped_df = data.groupby(['release_year']).sum()\n",
    "\n",
    "max_revenue = grouped_df.revenue.max()\n",
    "max_revenue_release_year = grouped_df.query('revenue==' + str(max_revenue))\n",
    "\n",
    "s = max_revenue_release_year.index\n",
    "s[0]"
   ]
  },
  {
   "cell_type": "markdown",
   "metadata": {
    "colab_type": "text",
    "id": "JAzJh4QAVp_z"
   },
   "source": [
    "# 20. Какой самый прибыльный год для студии Warner Bros?"
   ]
  },
  {
   "cell_type": "code",
   "execution_count": 124,
   "metadata": {
    "colab": {},
    "colab_type": "code",
    "id": "wgVu02DEVp_0"
   },
   "outputs": [
    {
     "data": {
      "text/plain": [
       "2014"
      ]
     },
     "execution_count": 124,
     "metadata": {},
     "output_type": "execute_result"
    }
   ],
   "source": [
    "answers['20'] = '2014'  # +\n",
    "\n",
    "# отбираем датасет по Paramount Pictures\n",
    "data_Warner_Bros = data[data.production_companies.str.contains(\"Warner Bros\",\n",
    "                                                               na=False)]\n",
    "\n",
    "grouped_df = data_Warner_Bros.groupby(['release_year']).sum()\n",
    "\n",
    "max_profit = grouped_df.profit.max()\n",
    "max_profit_release_year = grouped_df.query('profit==' + str(max_profit))\n",
    "\n",
    "s = max_profit_release_year.index\n",
    "s[0]"
   ]
  },
  {
   "cell_type": "code",
   "execution_count": 125,
   "metadata": {},
   "outputs": [
    {
     "data": {
      "text/plain": [
       "2014"
      ]
     },
     "execution_count": 125,
     "metadata": {},
     "output_type": "execute_result"
    }
   ],
   "source": [
    "# 2 вариант задание 20\n",
    "\n",
    "# второй вариант\n",
    "data_Warner_Bros = data[data.production_companies.str.contains(\"Warner Bros\",\n",
    "                                                               na=False)]\n",
    "grouped_df = data_Warner_Bros.groupby(['release_year']).sum()\n",
    "\n",
    "grouped_df_sort = grouped_df.sort_values('profit', ascending=False)\n",
    "grouped_df_sort.head(1)\n",
    "\n",
    "s = grouped_df_sort.index\n",
    "s[0]"
   ]
  },
  {
   "cell_type": "markdown",
   "metadata": {
    "colab_type": "text",
    "id": "8Im1S2HRVp_4"
   },
   "source": [
    "# 21. В каком месяце за все годы суммарно вышло больше всего фильмов?"
   ]
  },
  {
   "cell_type": "code",
   "execution_count": 126,
   "metadata": {
    "colab": {},
    "colab_type": "code",
    "id": "lev6TH7gVp_4"
   },
   "outputs": [
    {
     "data": {
      "text/plain": [
       "'9'"
      ]
     },
     "execution_count": 126,
     "metadata": {},
     "output_type": "execute_result"
    }
   ],
   "source": [
    "answers['21'] = '9'  # + (Сентябрь)\n",
    "\n",
    "# разделяем дату, первое значение месяц, считаем только по месяцам\n",
    "count = Counter()\n",
    "for i in range(0, len(data)):\n",
    "    for k in data.iloc[i]['release_date'].split('/'):\n",
    "        count[k] += 1\n",
    "        break\n",
    "\n",
    "sorted_actors = sorted(count.items(), key=operator.itemgetter(1), reverse=True)\n",
    "sorted_actors[0][0]"
   ]
  },
  {
   "cell_type": "markdown",
   "metadata": {
    "colab_type": "text",
    "id": "uAJsZ_NeVp_7"
   },
   "source": [
    "# 22. Сколько суммарно вышло фильмов летом? (за июнь, июль, август)"
   ]
  },
  {
   "cell_type": "code",
   "execution_count": 127,
   "metadata": {
    "colab": {},
    "colab_type": "code",
    "id": "Aa-hEREoVp_8"
   },
   "outputs": [
    {
     "data": {
      "text/plain": [
       "450"
      ]
     },
     "execution_count": 127,
     "metadata": {},
     "output_type": "execute_result"
    }
   ],
   "source": [
    "answers['22'] = '450'  # +\n",
    "\n",
    "# разделяем дату, первое значение месяц, считаем только по месяцам\n",
    "total = 0\n",
    "for i in range(0, len(data)):\n",
    "    for k in data.iloc[i]['release_date'].split('/'):\n",
    "        if k == '6' or k == '7' or k == '8':\n",
    "            total += 1\n",
    "        break\n",
    "total"
   ]
  },
  {
   "cell_type": "markdown",
   "metadata": {
    "colab_type": "text",
    "id": "G94ppOY1VqAA"
   },
   "source": [
    "# 23. Для какого режиссера зима – самое продуктивное время года? "
   ]
  },
  {
   "cell_type": "code",
   "execution_count": 128,
   "metadata": {
    "colab": {},
    "colab_type": "code",
    "id": "RhNTsamuVqAB"
   },
   "outputs": [
    {
     "data": {
      "text/plain": [
       "'Peter Jackson'"
      ]
     },
     "execution_count": 128,
     "metadata": {},
     "output_type": "execute_result"
    }
   ],
   "source": [
    "answers['23'] = 'Peter Jackson'  # +\n",
    "\n",
    "#data.iloc[0].release_date.split('/')[0] # проверка что получим нужные данные\n",
    "# создаём новую колонку и заполняем её\n",
    "data['winter'] = data.release_date.apply(lambda s: 1 \n",
    "                                         if s.split('/')[0] == '12'\n",
    "                                         or s.split('/')[0] == '1' \n",
    "                                         or s.split('/')[0] == '2' \n",
    "                                         else 0)\n",
    "data_winter = data.query('winter==1')\n",
    "\n",
    "count = Counter()\n",
    "for i in range(0, len(data_winter)):\n",
    "    for k in data_winter.iloc[i]['director'].split('|'):\n",
    "        count[k] += 1\n",
    "count\n",
    "sorted_genres = sorted(count.items(), key=operator.itemgetter(1), reverse=True)\n",
    "sorted_genres[0][0]"
   ]
  },
  {
   "cell_type": "markdown",
   "metadata": {
    "colab_type": "text",
    "id": "RBo0JVjVVqAF"
   },
   "source": [
    "# 24. Какая студия дает самые длинные названия своим фильмам по количеству символов?"
   ]
  },
  {
   "cell_type": "code",
   "execution_count": 129,
   "metadata": {
    "colab": {},
    "colab_type": "code",
    "id": "QRGS8L0iVqAG"
   },
   "outputs": [
    {
     "data": {
      "text/plain": [
       "'Twentieth Century Fox Film Corporation|Four By Two Productions'"
      ]
     },
     "execution_count": 129,
     "metadata": {},
     "output_type": "execute_result"
    }
   ],
   "source": [
    "# + (Four By Two Productions)\n",
    "answers['24'] = 'Twentieth Century Fox Film Corporation\\\n",
    "                 |Four By Two Productions'\n",
    "\n",
    "data['long_original_title'] = data.original_title.apply(lambda s: len(s))\n",
    "\n",
    "max_long = data.long_original_title.max()\n",
    "max_long_record = data.query('long_original_title==' + str(max_long))\n",
    "\n",
    "s = max_long_record.index\n",
    "s[0]\n",
    "\n",
    "max_long_record.iloc[0]['production_companies']"
   ]
  },
  {
   "cell_type": "markdown",
   "metadata": {
    "colab_type": "text",
    "id": "9G0hbvR7VqAK"
   },
   "source": [
    "# 25. Описание фильмов какой студии в среднем самые длинные по количеству слов?"
   ]
  },
  {
   "cell_type": "code",
   "execution_count": 130,
   "metadata": {
    "colab": {},
    "colab_type": "code",
    "id": "Ge2GsLNxVqAK"
   },
   "outputs": [
    {
     "data": {
      "text/plain": [
       "'Lions Gate Films|Lakeshore Entertainment|GreeneStreet Films|Midnight Picture Show'"
      ]
     },
     "execution_count": 130,
     "metadata": {},
     "output_type": "execute_result"
    }
   ],
   "source": [
    "# + (Midnight Picture Show)\n",
    "answers['25'] = 'Lions Gate Films|Lakeshore Entertainment\\\n",
    "                |GreeneStreet Films|Midnight Picture Show'\n",
    "\n",
    "#  добавляем колонку и рассчитываем значение длины\n",
    "data['long_overview'] = data.overview.apply(lambda s: len(s))\n",
    "mean_long_overview = data.long_overview.mean()\n",
    "mean_long_overview\n",
    "\n",
    "# получаем все средние значения\n",
    "grouped_df = data.groupby(['production_companies']).mean()\n",
    "grouped_df\n",
    "\n",
    "# находим самую длинную среди средних\n",
    "max_long_overview = grouped_df.long_overview.max()\n",
    "max_long_overview = grouped_df.query('long_overview==' \n",
    "                                     + str(max_long_overview))\n",
    "s = max_long_overview.index\n",
    "s[0]"
   ]
  },
  {
   "cell_type": "markdown",
   "metadata": {
    "colab_type": "text",
    "id": "FJ1AFt90VqAP"
   },
   "source": [
    "# 26. Какие фильмы входят в 1 процент лучших по рейтингу? \n",
    "по vote_average"
   ]
  },
  {
   "cell_type": "code",
   "execution_count": 131,
   "metadata": {
    "colab": {},
    "colab_type": "code",
    "id": "8qmJVq4CVqAQ"
   },
   "outputs": [
    {
     "data": {
      "text/plain": [
       "'Inside Out|Room|Interstellar|Guardians of the Galaxy|The Imitation Game|Gone Girl|The Grand Budapest Hotel|Inception|The Dark Knight|The Pianist|The Lord of the Rings: The Return of the King|The Wolf of Wall Street|12 Years a Slave|Memento'"
      ]
     },
     "execution_count": 131,
     "metadata": {},
     "output_type": "execute_result"
    }
   ],
   "source": [
    "answers['26'] = 'Inside Out|Room|Interstellar|Guardians of the Galaxy\\\n",
    "                |The Imitation Game|Gone Girl|The Grand Budapest Hotel\\\n",
    "                |Inception|The Dark Knight|The Pianist\\\n",
    "                |The Lord of the Rings: The Return of the King\\\n",
    "                |The Wolf of Wall Street|12 Years a Slave|Memento'\n",
    "\n",
    "data_one = data[data['vote_average'] > data.quantile(0.99, numeric_only=True)\n",
    "                ['vote_average']]\n",
    "\n",
    "# просматриваем данные в виде списка\n",
    "# data_one['original_title']\n",
    "\n",
    "# преобразуем в текст для ответа\n",
    "films_one = ''\n",
    "\n",
    "for i in range(len(data_one['original_title'])):\n",
    "    if len(films_one) == 0:\n",
    "        films_one = str(data_one.iloc[i].original_title)\n",
    "    else:\n",
    "        films_one += '|' + str(data_one.iloc[i].original_title)\n",
    "    films_one\n",
    "films_one"
   ]
  },
  {
   "cell_type": "markdown",
   "metadata": {
    "colab_type": "text",
    "id": "MdXsUXbCVqAV"
   },
   "source": [
    "# 27. Какие актеры чаще всего снимаются в одном фильме вместе?\n"
   ]
  },
  {
   "cell_type": "code",
   "execution_count": 132,
   "metadata": {
    "colab_type": "text",
    "id": "4ymnxEVoVqAW"
   },
   "outputs": [
    {
     "name": "stdout",
     "output_type": "stream",
     "text": [
      "(('Daniel Radcliffe', 'Emma Watson'), 8)(('Daniel Radcliffe', 'Rupert Grint'), 8)(('Emma Watson', 'Rupert Grint'), 8)(('Ben Stiller', 'Owen Wilson'), 6)(('Helena Bonham Carter', 'Johnny Depp'), 6)\n"
     ]
    }
   ],
   "source": [
    "# Daniel Radcliffe & Rupert Grint\n",
    "answers['27'] = \"(('Daniel Radcliffe', 'Emma Watson'), 8)\\\n",
    "                 (('Daniel Radcliffe', 'Rupert Grint'), 8)\\\n",
    "                 (('Emma Watson', 'Rupert Grint'), 8)\\\n",
    "                 (('Ben Stiller', 'Owen Wilson'), 6)\\\n",
    "                 (('Helena Bonham Carter', 'Johnny Depp'), 6)\"\n",
    "\n",
    "# s.split('|') - разделяем актеров\n",
    "# sorted - сортируем чтобы пары создавались всегда в одном порядке\n",
    "# combinations - создаем пары\n",
    "# list - перобразуем в список пар всех актеров\n",
    "# записываем в новую колонку couples\n",
    "\n",
    "data['couples'] = data.cast.apply(\n",
    "    lambda s: list(combinations(sorted(s.split('|')), 2)))\n",
    "\n",
    "# считаем совпадение пар по всем фильмам\n",
    "count = Counter()\n",
    "for i in range(0, len(data)):\n",
    "    for k in data.iloc[i]['couples']:\n",
    "        count[k] += 1\n",
    "\n",
    "# сортируем по убыванию\n",
    "sorted_couples = sorted(count.items(),\n",
    "                        key=operator.itemgetter(1),\n",
    "                        reverse=True)\n",
    "\n",
    "# получаем первые 5 значений\n",
    "first_5 = sorted_couples[0:5]\n",
    "\n",
    "# формируем текст для вывода в ответ\n",
    "max_couples = ''\n",
    "for i in range(5):\n",
    "    max_couples += str(first_5[i])\n",
    "\n",
    "print(max_couples)"
   ]
  },
  {
   "cell_type": "markdown",
   "metadata": {
    "colab_type": "text",
    "id": "U0nONFnGVqAX"
   },
   "source": [
    "# Submission"
   ]
  },
  {
   "cell_type": "code",
   "execution_count": 133,
   "metadata": {
    "colab": {},
    "colab_type": "code",
    "id": "IfcaRO9-VqAX",
    "outputId": "0f132912-32bb-4196-c98c-abfbc4ad5a5f"
   },
   "outputs": [
    {
     "data": {
      "text/plain": [
       "{'1': '723    Pirates of the Caribbean: On Stranger Tides',\n",
       " '2': '1157    Gods and Generals',\n",
       " '3': '768    Winnie the Pooh',\n",
       " '4': 109.6585494970884,\n",
       " '5': 107.0,\n",
       " '6': '239    Avatar',\n",
       " '7': '1245    The Lone Ranger',\n",
       " '8': 1478,\n",
       " '9': '599    The Dark Knight',\n",
       " '10': '1245    The Lone Ranger',\n",
       " '11': 'Drama    782',\n",
       " '12': 'Drama    560',\n",
       " '13': 'Peter Jackson',\n",
       " '14': 'Robert Rodriguez',\n",
       " '15': 'Chris Hemsworth',\n",
       " '16': 'Matt Damon',\n",
       " '17': 'Action',\n",
       " '18': '925    K-19: The Widowmaker',\n",
       " '19': '2015',\n",
       " '20': '2014',\n",
       " '21': '9',\n",
       " '22': '450',\n",
       " '23': 'Peter Jackson',\n",
       " '24': 'Twentieth Century Fox Film Corporation                 |Four By Two Productions',\n",
       " '25': 'Lions Gate Films|Lakeshore Entertainment                |GreeneStreet Films|Midnight Picture Show',\n",
       " '26': 'Inside Out|Room|Interstellar|Guardians of the Galaxy                |The Imitation Game|Gone Girl|The Grand Budapest Hotel                |Inception|The Dark Knight|The Pianist                |The Lord of the Rings: The Return of the King                |The Wolf of Wall Street|12 Years a Slave|Memento',\n",
       " '27': \"(('Daniel Radcliffe', 'Emma Watson'), 8)                 (('Daniel Radcliffe', 'Rupert Grint'), 8)                 (('Emma Watson', 'Rupert Grint'), 8)                 (('Ben Stiller', 'Owen Wilson'), 6)                 (('Helena Bonham Carter', 'Johnny Depp'), 6)\"}"
      ]
     },
     "execution_count": 133,
     "metadata": {},
     "output_type": "execute_result"
    }
   ],
   "source": [
    "# в конце можно посмотреть свои ответы к каждому вопросу\n",
    "answers"
   ]
  },
  {
   "cell_type": "code",
   "execution_count": 134,
   "metadata": {
    "colab": {},
    "colab_type": "code",
    "id": "SiRmHPl8VqAd"
   },
   "outputs": [
    {
     "data": {
      "text/plain": [
       "27"
      ]
     },
     "execution_count": 134,
     "metadata": {},
     "output_type": "execute_result"
    }
   ],
   "source": [
    "# и убедиться что ни чего не пропустил)\n",
    "len(answers)"
   ]
  },
  {
   "cell_type": "code",
   "execution_count": 0,
   "metadata": {
    "colab": {},
    "colab_type": "code",
    "id": "uCfuTkRbVqAg"
   },
   "outputs": [],
   "source": []
  },
  {
   "cell_type": "code",
   "execution_count": 0,
   "metadata": {
    "colab": {},
    "colab_type": "code",
    "id": "Vwx3NrkSVqAl"
   },
   "outputs": [],
   "source": []
  }
 ],
 "metadata": {
  "colab": {
   "name": "Copy of [SF-DST] Movies IMBD v4.1 TEMPLATE.ipynb",
   "provenance": []
  },
  "kernelspec": {
   "display_name": "Python 3",
   "language": "python",
   "name": "python3"
  },
  "language_info": {
   "codemirror_mode": {
    "name": "ipython",
    "version": 3
   },
   "file_extension": ".py",
   "mimetype": "text/x-python",
   "name": "python",
   "nbconvert_exporter": "python",
   "pygments_lexer": "ipython3",
   "version": "3.7.6"
  }
 },
 "nbformat": 4,
 "nbformat_minor": 1
}
